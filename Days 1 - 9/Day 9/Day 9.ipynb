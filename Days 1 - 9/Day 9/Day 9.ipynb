{
 "cells": [
  {
   "cell_type": "markdown",
   "metadata": {},
   "source": [
    "# Day 9"
   ]
  },
  {
   "cell_type": "markdown",
   "metadata": {},
   "source": [
    "Reading in our input text for we can use in our solution"
   ]
  },
  {
   "cell_type": "code",
   "execution_count": 225,
   "metadata": {},
   "outputs": [],
   "source": [
    "fileText = open('day9Input.txt', 'r').read()\n",
    "grid = fileText.split('\\n')\n",
    "for i in range(len(grid)): grid[i] = [int(number) for number in grid[i]]"
   ]
  },
  {
   "cell_type": "markdown",
   "metadata": {},
   "source": [
    "## Part One:\n",
    "\n",
    "These caves seem to be lava tubes. Parts are even still volcanically active; small hydrothermal vents release smoke into the caves that slowly settles like rain.\n",
    "\n",
    "If you can model how the smoke flows through the caves, you might be able to avoid it and be that much safer. The submarine generates a heightmap of the floor of the nearby caves for you (your puzzle input).\n",
    "\n",
    "Smoke flows to the lowest point of the area it's in. For example, consider the following heightmap:\n",
    "```\n",
    "2199943210\n",
    "3987894921\n",
    "9856789892\n",
    "8767896789\n",
    "9899965678\n",
    "```\n",
    "Each number corresponds to the height of a particular location, where 9 is the highest and 0 is the lowest a location can be.\n",
    "\n",
    "Your first goal is to find the low points - the locations that are lower than any of its adjacent locations. Most locations have four adjacent locations (up, down, left, and right); locations on the edge or corner of the map have three or two adjacent locations, respectively. (Diagonal locations do not count as adjacent.)\n",
    "\n",
    "In the above example, there are four low points, all highlighted: two are in the first row (a 1 and a 0), one is in the third row (a 5), and one is in the bottom row (also a 5). All other locations on the heightmap have some lower adjacent location, and so are not low points.\n",
    "\n",
    "*The risk level of a low point is 1 plus its height. In the above example, the risk levels of the low points are 2, 1, 6, and 6. The sum of the risk levels of all low points in the heightmap is therefore 15.*\n",
    "\n",
    "**Find all of the low points on your heightmap. What is the sum of the risk levels of all low points on your heightmap?**"
   ]
  },
  {
   "cell_type": "markdown",
   "metadata": {},
   "source": [
    "**Step 1:** making functions that check for surrounging cells in the grid (will return True is cell neighbor is greater, False if lesser and None if there is no neighbor in that direction)"
   ]
  },
  {
   "cell_type": "code",
   "execution_count": 226,
   "metadata": {},
   "outputs": [],
   "source": [
    "iRange = range(0, len(grid))\n",
    "jRange = range(0, len(grid[0]))\n",
    "\n",
    "def checkRight(i, j):\n",
    "    if (j+1) in jRange and i in iRange : \n",
    "        if grid[i][j] < grid[i][j+1]: return True\n",
    "        return False\n",
    "\n",
    "def checkLeft(i, j):\n",
    "    if (j-1) in jRange and i in iRange: \n",
    "        if grid[i][j] < grid[i][j-1]: return True\n",
    "        return False\n",
    "\n",
    "def checkUp(i, j):\n",
    "    if (i-1) in iRange and j in jRange: \n",
    "        if grid[i][j] < grid[i-1][j]: return True\n",
    "        return False\n",
    "\n",
    "def checkDown(i, j):\n",
    "    if (i+1) in iRange and j in jRange: \n",
    "        if grid[i][j] < grid[i+1][j]: return True\n",
    "        return False\n"
   ]
  },
  {
   "cell_type": "markdown",
   "metadata": {},
   "source": [
    "**Step 2:** finding all the low points using the functions above"
   ]
  },
  {
   "cell_type": "code",
   "execution_count": 227,
   "metadata": {},
   "outputs": [],
   "source": [
    "lowPoints = []\n",
    "for i in range(len(grid)):\n",
    "     for j in range(len(grid[1])): \n",
    "          if False not in [checkRight(i,j), checkLeft(i,j), checkDown(i,j), checkUp(i,j)]: lowPoints.append((i,j))"
   ]
  },
  {
   "cell_type": "markdown",
   "metadata": {},
   "source": [
    "**Step 3:** using the lowPoints in order to find the riskLevel for the cave"
   ]
  },
  {
   "cell_type": "code",
   "execution_count": 228,
   "metadata": {},
   "outputs": [],
   "source": [
    "lowValues = [grid[i[0]][i[1]] for i in lowPoints]\n",
    "\n",
    "riskLevel = sum(lowValues) + len(lowValues)"
   ]
  },
  {
   "cell_type": "markdown",
   "metadata": {},
   "source": [
    "Final Result:"
   ]
  },
  {
   "cell_type": "code",
   "execution_count": 229,
   "metadata": {},
   "outputs": [
    {
     "name": "stdout",
     "output_type": "stream",
     "text": [
      "The risk level for this cave is: 516\n"
     ]
    }
   ],
   "source": [
    "print(f'The risk level for this cave is: {riskLevel}')"
   ]
  },
  {
   "cell_type": "markdown",
   "metadata": {},
   "source": [
    "## Part Two\n",
    "Next, you need to find the largest basins so you know what areas are most important to avoid.\n",
    "\n",
    "A basin is all locations that eventually flow downward to a single low point. Therefore, every low point has a basin, although some basins are very small. Locations of height 9 do not count as being in any basin, and all other locations will always be part of exactly one basin.\n",
    "\n",
    "The size of a basin is the number of locations within the basin, including the low point. The example above has four basins.\n",
    "\n",
    "The top-left basin, size 3:\n",
    "```\n",
    "2199943210\n",
    "3987894921\n",
    "9856789892\n",
    "8767896789\n",
    "9899965678\n",
    "```\n",
    "The top-right basin, size 9:\n",
    "```\n",
    "2199943210\n",
    "3987894921\n",
    "9856789892\n",
    "8767896789\n",
    "9899965678\n",
    "```\n",
    "The middle basin, size 14:\n",
    "```\n",
    "2199943210\n",
    "3987894921\n",
    "9856789892\n",
    "8767896789\n",
    "9899965678\n",
    "```\n",
    "The bottom-right basin, size 9:\n",
    "```\n",
    "2199943210\n",
    "3987894921\n",
    "9856789892\n",
    "8767896789\n",
    "9899965678\n",
    "```\n",
    "Find the three largest basins and multiply their sizes together. In the above example, this is 9 * 14 * 9 = 1134.\n",
    "\n",
    "What do you get if you multiply together the sizes of the three largest basins?"
   ]
  },
  {
   "cell_type": "markdown",
   "metadata": {},
   "source": [
    "**Step 1:** making a graph using a dictionary, where the neighbors for each point are greater (ie points where flow come from) and not equal to 9 as per the prompt intructions"
   ]
  },
  {
   "cell_type": "code",
   "execution_count": 230,
   "metadata": {},
   "outputs": [],
   "source": [
    "pointGraph = {}\n",
    "\n",
    "for i in range(len(grid)):\n",
    "    for j in range(len(grid[0])):\n",
    "        if grid[i][j] != 9:\n",
    "            pointGraph[(i,j)] = set()\n",
    "            if checkRight(i,j) and grid[i][j+1] != 9: pointGraph.get((i,j)).add((i,j+1))\n",
    "            if checkLeft(i,j) and grid[i][j-1] != 9: pointGraph.get((i,j)).add((i,j-1))\n",
    "            if checkUp(i,j) and grid[i-1][j] != 9: pointGraph.get((i,j)).add((i-1,j))\n",
    "            if checkDown(i,j) and grid[i+1][j] != 9:pointGraph.get((i,j)).add((i+1,j)) "
   ]
  },
  {
   "cell_type": "markdown",
   "metadata": {},
   "source": [
    "**Step 2:** Making a recursive function that will find all the points in a basin given the low point"
   ]
  },
  {
   "cell_type": "code",
   "execution_count": 231,
   "metadata": {},
   "outputs": [],
   "source": [
    "def getFlowPath(node):\n",
    "    basin = set()\n",
    "    traverse(node, basin)\n",
    "    return basin\n",
    "def traverse(node, basin):\n",
    "    basin.add(node)\n",
    "    neighbors = pointGraph.get(node)\n",
    "    for neighbor in neighbors: traverse(neighbor, basin)"
   ]
  },
  {
   "cell_type": "markdown",
   "metadata": {},
   "source": [
    "**Step 3** Getting all the basins and finding the largest three"
   ]
  },
  {
   "cell_type": "code",
   "execution_count": 232,
   "metadata": {},
   "outputs": [],
   "source": [
    "basinSizes = []\n",
    "\n",
    "for point in lowPoints: basinSizes.append(\n",
    "    len(getFlowPath(point)))\n",
    "    \n",
    "basinSizes.sort(reverse=True)\n",
    "PartTwoAnswer = basinSizes[0] * basinSizes[1] * basinSizes[2]"
   ]
  },
  {
   "cell_type": "markdown",
   "metadata": {},
   "source": [
    "Final Result"
   ]
  },
  {
   "cell_type": "code",
   "execution_count": 233,
   "metadata": {},
   "outputs": [
    {
     "name": "stdout",
     "output_type": "stream",
     "text": [
      "The product of the sizes of the largest three basins is: 1023660\n"
     ]
    }
   ],
   "source": [
    "print(f'The product of the sizes of the largest three basins is: {PartTwoAnswer}')"
   ]
  }
 ],
 "metadata": {
  "interpreter": {
   "hash": "b0fa6594d8f4cbf19f97940f81e996739fb7646882a419484c72d19e05852a7e"
  },
  "kernelspec": {
   "display_name": "Python 3.9.9 64-bit",
   "language": "python",
   "name": "python3"
  },
  "language_info": {
   "codemirror_mode": {
    "name": "ipython",
    "version": 3
   },
   "file_extension": ".py",
   "mimetype": "text/x-python",
   "name": "python",
   "nbconvert_exporter": "python",
   "pygments_lexer": "ipython3",
   "version": "3.9.7"
  },
  "orig_nbformat": 4
 },
 "nbformat": 4,
 "nbformat_minor": 2
}
