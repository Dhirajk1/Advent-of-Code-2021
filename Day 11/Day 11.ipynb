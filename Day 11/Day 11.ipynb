{
 "cells": [
  {
   "cell_type": "markdown",
   "metadata": {},
   "source": [
    "# Day 11"
   ]
  },
  {
   "cell_type": "markdown",
   "metadata": {},
   "source": [
    "Getting our input set up (we're also going to make a copy of the grid since it will be edited with each step)"
   ]
  },
  {
   "cell_type": "code",
   "execution_count": 62,
   "metadata": {},
   "outputs": [],
   "source": [
    "import copy"
   ]
  },
  {
   "cell_type": "code",
   "execution_count": 63,
   "metadata": {},
   "outputs": [
    {
     "data": {
      "text/plain": [
       "[[6, 1, 1, 1, 8, 2, 1, 7, 6, 7],\n",
       " [1, 7, 6, 3, 6, 1, 1, 6, 1, 5],\n",
       " [3, 5, 1, 2, 6, 8, 3, 1, 3, 1],\n",
       " [8, 5, 8, 2, 7, 7, 1, 4, 7, 3],\n",
       " [8, 2, 1, 4, 8, 1, 3, 8, 7, 4],\n",
       " [2, 3, 2, 5, 8, 2, 3, 2, 1, 7],\n",
       " [2, 2, 2, 2, 4, 8, 2, 8, 2, 3],\n",
       " [5, 4, 7, 1, 3, 5, 6, 7, 8, 2],\n",
       " [3, 7, 3, 8, 6, 7, 1, 2, 8, 7],\n",
       " [8, 6, 7, 5, 2, 2, 6, 5, 7, 4]]"
      ]
     },
     "execution_count": 63,
     "metadata": {},
     "output_type": "execute_result"
    }
   ],
   "source": [
    "fileText = open('day11Input.txt', 'r').read()\n",
    "grid = fileText.split('\\n')\n",
    "for i in range(len(grid)): grid[i] = [int(i) for i in grid[i]]\n",
    "\n",
    "gridMaster = copy.deepcopy(grid)\n",
    "\n",
    "grid "
   ]
  },
  {
   "cell_type": "markdown",
   "metadata": {},
   "source": [
    "## Part One\n",
    "\n",
    "You enter a large cavern full of rare bioluminescent dumbo octopuses! They seem to not like the Christmas lights on your submarine, so you turn them off for now.\n",
    "\n",
    "There are 100 octopuses arranged neatly in a 10 by 10 grid. Each octopus slowly gains energy over time and flashes brightly for a moment when its energy is full. Although your lights are off, maybe you could navigate through the cave without disturbing the octopuses if you could predict when the flashes of light will happen.\n",
    "\n",
    "Each octopus has an energy level - your submarine can remotely measure the energy level of each octopus (your puzzle input). For example:\n",
    "```\n",
    "5483143223\n",
    "2745854711\n",
    "5264556173\n",
    "6141336146\n",
    "6357385478\n",
    "4167524645\n",
    "2176841721\n",
    "6882881134\n",
    "4846848554\n",
    "5283751526\n",
    "```\n",
    "The energy level of each octopus is a value between 0 and 9. Here, the top-left octopus has an energy level of 5, the bottom-right one has an energy level of 6, and so on.\n",
    "\n",
    "You can model the energy levels and flashes of light in steps. During a single step, the following occurs:\n",
    "\n",
    "First, the energy level of each octopus increases by 1.\n",
    "Then, any octopus with an energy level greater than 9 flashes. This increases the energy level of all adjacent octopuses by 1, including octopuses that are diagonally adjacent. If this causes an octopus to have an energy level greater than 9, it also flashes. This process continues as long as new octopuses keep having their energy level increased beyond 9. (An octopus can only flash at most once per step.)\n",
    "Finally, any octopus that flashed during this step has its energy level set to 0, as it used all of its energy to flash.\n",
    "Adjacent flashes can cause an octopus to flash on a step even if it begins that step with very little energy. Consider the middle octopus with 1 energy in this situation:\n",
    "\n",
    "```\n",
    "Before any steps:\n",
    "11111\n",
    "19991\n",
    "19191\n",
    "19991\n",
    "11111\n",
    "```\n",
    "After step 1:\n",
    "```\n",
    "34543\n",
    "40004\n",
    "50005\n",
    "40004\n",
    "34543\n",
    "```\n",
    "After step 2:\n",
    "```\n",
    "45654\n",
    "51115\n",
    "61116\n",
    "51115\n",
    "45654\n",
    "```\n",
    "An octopus is highlighted when it flashed during the given step. Here is how the larger example above progresses:\n",
    "```\n",
    "Before any steps:\n",
    "5483143223\n",
    "2745854711\n",
    "5264556173\n",
    "6141336146\n",
    "6357385478\n",
    "4167524645\n",
    "2176841721\n",
    "6882881134\n",
    "4846848554\n",
    "5283751526\n",
    "\n",
    "After step 1:\n",
    "6594254334\n",
    "3856965822\n",
    "6375667284\n",
    "7252447257\n",
    "7468496589\n",
    "5278635756\n",
    "3287952832\n",
    "7993992245\n",
    "5957959665\n",
    "6394862637\n",
    "```\n",
    "After 100 steps, there have been a total of 1656 flashes.\n",
    "\n",
    "Given the starting energy levels of the dumbo octopuses in your cavern, simulate 100 steps. How many total flashes are there after 100 steps?"
   ]
  },
  {
   "cell_type": "markdown",
   "metadata": {},
   "source": [
    "**Step 1:** Find all the points that are next to any point"
   ]
  },
  {
   "cell_type": "code",
   "execution_count": 64,
   "metadata": {},
   "outputs": [],
   "source": [
    "def isValidPoint(point):\n",
    "    return point[0] in range(0,len(grid)) and point[1] in range(0, len(grid[0]))\n",
    "    \n",
    "def findNeighbors(point):\n",
    "    i, j= point[0], point[1]\n",
    "    neighbors = []\n",
    "    pointsToCheck = [(i+1,j), (i-1,j), (i,j+1), (i,j-1), (i+1,j+1), (i-1,j+1), (i+1,j-1), (i-1,j-1)]\n",
    "    for possibleNeighbor in pointsToCheck:\n",
    "        if isValidPoint(possibleNeighbor): neighbors.append(possibleNeighbor)\n",
    "    return neighbors"
   ]
  },
  {
   "cell_type": "markdown",
   "metadata": {},
   "source": [
    "**Step 2:** Using the neighbors in order to make a graph of octopuses and the octopuses next to it"
   ]
  },
  {
   "cell_type": "code",
   "execution_count": 65,
   "metadata": {},
   "outputs": [],
   "source": [
    "octopusGraph = {}\n",
    "for i in range(len(grid)):\n",
    "    for j in range(len(grid[0])): octopusGraph[(i, j)] = findNeighbors((i, j))"
   ]
  },
  {
   "cell_type": "markdown",
   "metadata": {},
   "source": [
    "**Step 3:** Creating an increment function that will either increment the entire grid or just one octopus depending on the input"
   ]
  },
  {
   "cell_type": "code",
   "execution_count": 66,
   "metadata": {},
   "outputs": [],
   "source": [
    "def increment(point=None):\n",
    "    if point == None: #increment entire grid\n",
    "        for i in range(len(grid)):\n",
    "            for j in range(len(grid[0])): \n",
    "                grid[i][j] += 1\n",
    "    else: grid[point[0]][point[1]] += 1 #increment one octopus"
   ]
  },
  {
   "cell_type": "markdown",
   "metadata": {},
   "source": [
    "**Step 4:** Making a flash function that will make the octopus's energy level to zero and flash all the neighbors if they haven't been flashed already"
   ]
  },
  {
   "cell_type": "code",
   "execution_count": 67,
   "metadata": {},
   "outputs": [],
   "source": [
    "def flash(point, flashed):\n",
    "    grid[point[0]][point[1]] = 0\n",
    "    if point not in flashed :\n",
    "        flashed.add(point)\n",
    "        for neighor in octopusGraph.get(point):\n",
    "            if neighor not in flashed: increment(neighor)"
   ]
  },
  {
   "cell_type": "markdown",
   "metadata": {},
   "source": [
    "**Step 4** Combining the previously made function to simulate an enitre step and return the total number of flashes per step"
   ]
  },
  {
   "cell_type": "code",
   "execution_count": 68,
   "metadata": {},
   "outputs": [],
   "source": [
    "def step():\n",
    "    increment()\n",
    "    flashed = set()\n",
    "    while True: #keep flashing until there's no more octopuses to flash\n",
    "        flashCount = 0\n",
    "        for i in range(len(grid)):\n",
    "            for j in range(len(grid[0])): \n",
    "                if grid[i][j]  > 9: \n",
    "                    flash((i,j), flashed)\n",
    "                    flashCount += 1\n",
    "        if flashCount == 0: break #done flashing -> break\n",
    "    return len(flashed)"
   ]
  },
  {
   "cell_type": "markdown",
   "metadata": {},
   "source": [
    "**Step 5:** Simulating 100 steps"
   ]
  },
  {
   "cell_type": "code",
   "execution_count": 69,
   "metadata": {},
   "outputs": [],
   "source": [
    "totalFlashes = 0\n",
    "for i in range(100): totalFlashes += step()"
   ]
  },
  {
   "cell_type": "markdown",
   "metadata": {},
   "source": [
    "Final Answer:"
   ]
  },
  {
   "cell_type": "code",
   "execution_count": 70,
   "metadata": {},
   "outputs": [
    {
     "name": "stdout",
     "output_type": "stream",
     "text": [
      "The total number of flashes after 100 steps is: 1793\n"
     ]
    }
   ],
   "source": [
    "print(f'The total number of flashes after 100 steps is: {totalFlashes}')"
   ]
  },
  {
   "cell_type": "markdown",
   "metadata": {},
   "source": [
    "## Part Two\n",
    "It seems like the individual flashes aren't bright enough to navigate. However, you might have a better option: the flashes seem to be synchronizing!\n",
    "\n",
    "In the example above, the first time all octopuses flash simultaneously is step 195:\n",
    "```\n",
    "After step 193:\n",
    "5877777777\n",
    "8877777777\n",
    "7777777777\n",
    "7777777777\n",
    "7777777777\n",
    "7777777777\n",
    "7777777777\n",
    "7777777777\n",
    "7777777777\n",
    "7777777777\n",
    "\n",
    "After step 194:\n",
    "6988888888\n",
    "9988888888\n",
    "8888888888\n",
    "8888888888\n",
    "8888888888\n",
    "8888888888\n",
    "8888888888\n",
    "8888888888\n",
    "8888888888\n",
    "8888888888\n",
    "\n",
    "After step 195:\n",
    "0000000000\n",
    "0000000000\n",
    "0000000000\n",
    "0000000000\n",
    "0000000000\n",
    "0000000000\n",
    "0000000000\n",
    "0000000000\n",
    "0000000000\n",
    "0000000000\n",
    "```\n",
    "If you can calculate the exact moments when the octopuses will all flash simultaneously, you should be able to navigate through the cavern. What is the first step during which all octopuses flash?"
   ]
  },
  {
   "cell_type": "markdown",
   "metadata": {},
   "source": [
    "**Step 1:** Resetting our grid and finding the octopus population"
   ]
  },
  {
   "cell_type": "code",
   "execution_count": 71,
   "metadata": {},
   "outputs": [],
   "source": [
    "grid = copy.deepcopy(gridMaster)\n",
    "octopusPopulation = len(octopusGraph)"
   ]
  },
  {
   "cell_type": "markdown",
   "metadata": {},
   "source": [
    "**Step 2** Making steps until every octupus flashes in a step (when step's return == population)"
   ]
  },
  {
   "cell_type": "code",
   "execution_count": 72,
   "metadata": {},
   "outputs": [],
   "source": [
    "allFlashStep, changed = 0, 0\n",
    "\n",
    "while (changed != octopusPopulation):\n",
    "    allFlashStep += 1\n",
    "    changed = step()"
   ]
  },
  {
   "cell_type": "markdown",
   "metadata": {},
   "source": [
    "Final Result:"
   ]
  },
  {
   "cell_type": "code",
   "execution_count": 73,
   "metadata": {},
   "outputs": [
    {
     "name": "stdout",
     "output_type": "stream",
     "text": [
      "The first time all the octopuses flash is step #247\n"
     ]
    }
   ],
   "source": [
    "print(f'The first time all the octopuses flash is step #{allFlashStep}')"
   ]
  }
 ],
 "metadata": {
  "interpreter": {
   "hash": "b0fa6594d8f4cbf19f97940f81e996739fb7646882a419484c72d19e05852a7e"
  },
  "kernelspec": {
   "display_name": "Python 3.9.9 64-bit",
   "language": "python",
   "name": "python3"
  },
  "language_info": {
   "codemirror_mode": {
    "name": "ipython",
    "version": 3
   },
   "file_extension": ".py",
   "mimetype": "text/x-python",
   "name": "python",
   "nbconvert_exporter": "python",
   "pygments_lexer": "ipython3",
   "version": "3.8.8"
  },
  "orig_nbformat": 4
 },
 "nbformat": 4,
 "nbformat_minor": 2
}
