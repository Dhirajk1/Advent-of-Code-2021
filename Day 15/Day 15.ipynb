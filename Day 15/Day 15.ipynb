{
 "cells": [
  {
   "cell_type": "markdown",
   "metadata": {},
   "source": [
    "# Day 15"
   ]
  },
  {
   "cell_type": "markdown",
   "metadata": {},
   "source": [
    "## Part One\n",
    "\n",
    "You've almost reached the exit of the cave, but the walls are getting closer together. Your submarine can barely still fit, though; the main problem is that the walls of the cave are covered in chitons, and it would be best not to bump any of them.\n",
    "\n",
    "The cavern is large, but has a very low ceiling, restricting your motion to **two dimensions**. The shape of the cavern resembles a square; a quick scan of chiton density produces a map of risk level throughout the cave (your puzzle input). For example:\n",
    "```\n",
    "1163751742\n",
    "1381373672\n",
    "2136511328\n",
    "3694931569\n",
    "7463417111\n",
    "1319128137\n",
    "1359912421\n",
    "3125421639\n",
    "1293138521\n",
    "2311944581\n",
    "```\n",
    "You start in the top left position, your destination is the bottom right position, and you cannot move diagonally. The number at each position is its risk level; to determine the total risk of an entire path, add up the risk levels of each position you enter (that is, don't count the risk level of your starting position unless you enter it; leaving it adds no risk to your total).\n",
    "\n",
    "Your goal is to find a path with the lowest total risk. In this example, a path with the lowest total risk is highlighted here:\n",
    "```\n",
    "1163751742\n",
    "1381373672\n",
    "2136511328\n",
    "3694931569\n",
    "7463417111\n",
    "1319128137\n",
    "1359912421\n",
    "3125421639\n",
    "1293138521\n",
    "2311944581\n",
    "```\n",
    "The total risk of this path is 40 *(the starting position is never entered, so its risk is not counted)*.\n",
    "\n",
    "What is the lowest total risk of any path from the top left to the bottom right?"
   ]
  },
  {
   "cell_type": "markdown",
   "metadata": {},
   "source": [
    "**Step 0**: I need to go some research on stuff I don't really know well (mainly Dijkstra's algorithm and using `heapq`)"
   ]
  },
  {
   "cell_type": "markdown",
   "metadata": {},
   "source": [
    "**Step 1** Turning our puzzle input into a 2d array through a function for easier use (grid)"
   ]
  },
  {
   "cell_type": "code",
   "execution_count": 698,
   "metadata": {},
   "outputs": [],
   "source": [
    "def makeGrid():\n",
    "    fileText = open('day15Input.txt', 'r').read()\n",
    "    grid = fileText.split('\\n')\n",
    "    for i in range(len(grid)): grid[i] = [int(number) for number in grid[i]]\n",
    "    return grid"
   ]
  },
  {
   "cell_type": "markdown",
   "metadata": {},
   "source": [
    "**Step 2** Functions that will allow us to create a graph with the coordinate all all the neighbors given a grid"
   ]
  },
  {
   "cell_type": "code",
   "execution_count": 699,
   "metadata": {},
   "outputs": [],
   "source": [
    "# Giving us the opportunity to check if a given point is valid\n",
    "def checkPoint(i, j, grid):\n",
    "    iRange = range(0, len(grid))\n",
    "    jRange = range(0, len(grid[0]))\n",
    "    return i in iRange and j in jRange\n",
    "\n",
    "def makeGraph(grid):\n",
    "    pointGraph = {}\n",
    "    for i in range(len(grid)):\n",
    "        for j in range(len(grid[0])):\n",
    "            pointGraph[(i,j)] = set()\n",
    "            #Checking up, down, left, and right for any neighbors\n",
    "            if checkPoint(i,j+1, grid) : pointGraph.get((i,j)).add((i,j+1))\n",
    "            if checkPoint(i,j-1, grid): pointGraph.get((i,j)).add((i,j-1))\n",
    "            if checkPoint(i-1,j, grid):  pointGraph.get((i,j)).add((i-1,j))\n",
    "            if checkPoint(i+1,j, grid) :pointGraph.get((i,j)).add((i+1,j)) \n",
    "    return pointGraph"
   ]
  },
  {
   "cell_type": "markdown",
   "metadata": {},
   "source": [
    "**Step 3** Function will return the risk given a coordinate"
   ]
  },
  {
   "cell_type": "code",
   "execution_count": 700,
   "metadata": {},
   "outputs": [],
   "source": [
    "def getRisk(point, grid):\n",
    "    i = point[0]\n",
    "    j = point[1]\n",
    "    return grid[i][j]"
   ]
  },
  {
   "cell_type": "markdown",
   "metadata": {},
   "source": [
    "**Step 4** Dijkstra algorithm implementation using `heapq` for better performance"
   ]
  },
  {
   "cell_type": "code",
   "execution_count": 701,
   "metadata": {},
   "outputs": [],
   "source": [
    "# https://en.wikipedia.org/wiki/Dijkstra%27s_algorithm \n",
    "def Dijkstra(grid, start, end):\n",
    "    # https://docs.python.org/3/library/heapq.html\n",
    "    import heapq\n",
    "\n",
    "    graph = makeGraph(grid)\n",
    "    queue = []\n",
    "    dist = {}\n",
    "    for vertex in graph: dist[vertex] = float('inf')\n",
    "\n",
    "    dist[start] = 0\n",
    "    heapq.heappush(queue, (dist[start], start))\n",
    "\n",
    "    while queue:\n",
    "\n",
    "        u = heapq.heappop(queue)[1]\n",
    "\n",
    "        if u == end: return dist[end]\n",
    "        \n",
    "        for neighbor in graph.get(u):\n",
    "            newPath = dist[u] + getRisk(neighbor, grid)\n",
    "            if newPath < dist[neighbor]: \n",
    "                dist[neighbor] = newPath\n",
    "                heapq.heappush(queue, (dist[neighbor], neighbor))"
   ]
  },
  {
   "cell_type": "markdown",
   "metadata": {},
   "source": [
    "**Step 5** Running the Dijkstra "
   ]
  },
  {
   "cell_type": "code",
   "execution_count": 702,
   "metadata": {},
   "outputs": [],
   "source": [
    "gridPart1 = makeGrid()\n",
    "end = (len(gridPart1) - 1, len(gridPart1[0]) - 1)\n",
    "\n",
    "riskPart1 = Dijkstra(gridPart1, start=(0,0), end=end)"
   ]
  },
  {
   "cell_type": "markdown",
   "metadata": {},
   "source": [
    "Final Result:"
   ]
  },
  {
   "cell_type": "code",
   "execution_count": 703,
   "metadata": {},
   "outputs": [
    {
     "name": "stdout",
     "output_type": "stream",
     "text": [
      "The minimum risk path has a risk of: 366\n"
     ]
    }
   ],
   "source": [
    "print(f\"The minimum risk path has a risk of: {riskPart1}\")"
   ]
  },
  {
   "cell_type": "markdown",
   "metadata": {},
   "source": [
    "## Part Two\n",
    "Now that you know how to find low-risk paths in the cave, you can try to find your way out.\n",
    "\n",
    "The entire cave is actually five times larger in both dimensions than you thought; the area you originally scanned is just one tile in a 5x5 tile area that forms the full map. Your original map tile repeats to the right and downward; each time the tile repeats to the right or downward, all of its risk levels are 1 higher than the tile immediately up or left of it. However, risk levels above 9 wrap back around to 1. So, if your original map had some position with a risk level of 8, then that same position on each of the 25 total tiles would be as follows:\n",
    "```\n",
    "8 9 1 2 3\n",
    "9 1 2 3 4\n",
    "1 2 3 4 5\n",
    "2 3 4 5 6\n",
    "3 4 5 6 7\n",
    "```\n",
    "Each single digit above corresponds to the example position with a value of 8 on the top-left tile. Because the full map is actually five times larger in both dimensions, that position appears a total of 25 times, once in each duplicated tile, with the values shown above.\n",
    "\n",
    "Here is the full five-times-as-large version of the first example above, with the original map in the top left corner highlighted:\n",
    "```\n",
    "11637517422274862853338597396444961841755517295286\n",
    "13813736722492484783351359589446246169155735727126\n",
    "21365113283247622439435873354154698446526571955763\n",
    "36949315694715142671582625378269373648937148475914\n",
    "74634171118574528222968563933317967414442817852555\n",
    "13191281372421239248353234135946434524615754563572\n",
    "13599124212461123532357223464346833457545794456865\n",
    "31254216394236532741534764385264587549637569865174\n",
    "12931385212314249632342535174345364628545647573965\n",
    "23119445813422155692453326671356443778246755488935\n",
    "22748628533385973964449618417555172952866628316397\n",
    "24924847833513595894462461691557357271266846838237\n",
    "32476224394358733541546984465265719557637682166874\n",
    "47151426715826253782693736489371484759148259586125\n",
    "85745282229685639333179674144428178525553928963666\n",
    "24212392483532341359464345246157545635726865674683\n",
    "24611235323572234643468334575457944568656815567976\n",
    "42365327415347643852645875496375698651748671976285\n",
    "23142496323425351743453646285456475739656758684176\n",
    "34221556924533266713564437782467554889357866599146\n",
    "33859739644496184175551729528666283163977739427418\n",
    "35135958944624616915573572712668468382377957949348\n",
    "43587335415469844652657195576376821668748793277985\n",
    "58262537826937364893714847591482595861259361697236\n",
    "96856393331796741444281785255539289636664139174777\n",
    "35323413594643452461575456357268656746837976785794\n",
    "35722346434683345754579445686568155679767926678187\n",
    "53476438526458754963756986517486719762859782187396\n",
    "34253517434536462854564757396567586841767869795287\n",
    "45332667135644377824675548893578665991468977611257\n",
    "44961841755517295286662831639777394274188841538529\n",
    "46246169155735727126684683823779579493488168151459\n",
    "54698446526571955763768216687487932779859814388196\n",
    "69373648937148475914825958612593616972361472718347\n",
    "17967414442817852555392896366641391747775241285888\n",
    "46434524615754563572686567468379767857948187896815\n",
    "46833457545794456865681556797679266781878137789298\n",
    "64587549637569865174867197628597821873961893298417\n",
    "45364628545647573965675868417678697952878971816398\n",
    "56443778246755488935786659914689776112579188722368\n",
    "55172952866628316397773942741888415385299952649631\n",
    "57357271266846838237795794934881681514599279262561\n",
    "65719557637682166874879327798598143881961925499217\n",
    "71484759148259586125936169723614727183472583829458\n",
    "28178525553928963666413917477752412858886352396999\n",
    "57545635726865674683797678579481878968159298917926\n",
    "57944568656815567976792667818781377892989248891319\n",
    "75698651748671976285978218739618932984172914319528\n",
    "56475739656758684176786979528789718163989182927419\n",
    "67554889357866599146897761125791887223681299833479\n",
    "```\n",
    "Equipped with the full map, you can now find a path from the top left corner to the bottom right corner with the lowest total risk:\n",
    "\n",
    "The total risk of this path is 315 (the starting position is still never entered, so its risk is not counted).\n",
    "\n",
    "Using the full map, what is the lowest total risk of any path from the top left to the bottom right?"
   ]
  },
  {
   "cell_type": "markdown",
   "metadata": {},
   "source": [
    "**Step 1** Creating the expanded grid"
   ]
  },
  {
   "cell_type": "code",
   "execution_count": 704,
   "metadata": {},
   "outputs": [],
   "source": [
    "part2Grid = makeGrid()\n",
    "initialHeight = len(part2Grid)\n",
    "initialWidth = len(part2Grid[0])\n",
    "\n",
    "for i in range(4):\n",
    "    for row in range(len(part2Grid)):\n",
    "        previouslyAdded = part2Grid[row][initialWidth * i:]\n",
    "        extension = [cell % 9 + 1 for cell in previouslyAdded]\n",
    "        part2Grid[row].extend(extension)\n",
    "        \n",
    "for i in range(4):\n",
    "    previouslyAdded = part2Grid[i*initialHeight:]\n",
    "    for row in previouslyAdded:\n",
    "        newLine = [cell % 9 + 1 for cell in row]\n",
    "        part2Grid.append(newLine)"
   ]
  },
  {
   "cell_type": "markdown",
   "metadata": {},
   "source": [
    "**Step 2** Running our Dijkstra on the new grid"
   ]
  },
  {
   "cell_type": "code",
   "execution_count": 705,
   "metadata": {},
   "outputs": [],
   "source": [
    "end = (len(part2Grid) - 1, len(part2Grid[0]) - 1)\n",
    "riskPart2 = Dijkstra(part2Grid, start=(0,0), end=end)"
   ]
  },
  {
   "cell_type": "markdown",
   "metadata": {},
   "source": [
    "Final Result:"
   ]
  },
  {
   "cell_type": "code",
   "execution_count": 706,
   "metadata": {},
   "outputs": [
    {
     "name": "stdout",
     "output_type": "stream",
     "text": [
      "The minimum risk path has a risk of: 2829\n"
     ]
    }
   ],
   "source": [
    "print(f\"The minimum risk path has a risk of: {riskPart2}\")"
   ]
  }
 ],
 "metadata": {
  "interpreter": {
   "hash": "b0fa6594d8f4cbf19f97940f81e996739fb7646882a419484c72d19e05852a7e"
  },
  "kernelspec": {
   "display_name": "Python 3.9.9 64-bit",
   "language": "python",
   "name": "python3"
  },
  "language_info": {
   "codemirror_mode": {
    "name": "ipython",
    "version": 3
   },
   "file_extension": ".py",
   "mimetype": "text/x-python",
   "name": "python",
   "nbconvert_exporter": "python",
   "pygments_lexer": "ipython3",
   "version": "3.9.9"
  },
  "orig_nbformat": 4
 },
 "nbformat": 4,
 "nbformat_minor": 2
}
