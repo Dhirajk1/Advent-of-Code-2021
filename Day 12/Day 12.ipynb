{
 "cells": [
  {
   "cell_type": "markdown",
   "metadata": {},
   "source": [
    "# Day 12"
   ]
  },
  {
   "cell_type": "markdown",
   "metadata": {},
   "source": [
    "Reading in our input file"
   ]
  },
  {
   "cell_type": "code",
   "execution_count": 518,
   "metadata": {},
   "outputs": [],
   "source": [
    "fileText = open('day12Input.txt', 'r').read()\n",
    "pairs = fileText.split('\\n')\n",
    "for i in range(len(pairs)): pairs[i] = pairs[i].split('-')"
   ]
  },
  {
   "cell_type": "markdown",
   "metadata": {},
   "source": [
    "\n",
    "## Part One\n",
    "With your submarine's subterranean subsystems subsisting suboptimally, the only way you're getting out of this cave anytime soon is by finding a path yourself. Not just a path - the only way to know if you've found the best path is to find all of them.\n",
    "\n",
    "Fortunately, the sensors are still mostly working, and so you build a rough map of the remaining caves (your puzzle input). For example:\n",
    "```\n",
    "start-A\n",
    "start-b\n",
    "A-c\n",
    "A-b\n",
    "b-d\n",
    "A-end\n",
    "b-end\n",
    "```\n",
    "This is a list of how all of the caves are connected. You start in the cave named start, and your destination is the cave named end. An entry like b-d means that cave b is connected to cave d - that is, you can move between them.\n",
    "\n",
    "So, the above cave system looks roughly like this:\n",
    "```\n",
    "    start\n",
    "    /   \\\n",
    "c--A-----b--d\n",
    "    \\   /\n",
    "     end\n",
    "```\n",
    "Your goal is to find the number of distinct paths that **<u>start at start, end at end, and don't visit small caves more than once</u>**. There are two types of caves: big caves (written in uppercase, like A) and small caves (written in lowercase, like b). It would be a waste of time to visit any small cave more than once, but big caves are large enough that it might be worth visiting them multiple times. So, all paths you find should visit small caves at most once, and can visit big caves any number of times.\n",
    "\n",
    "Given these rules, there are 10 paths through this example cave system:\n",
    "```\n",
    "start,A,b,A,c,A,end\n",
    "start,A,b,A,end\n",
    "start,A,b,end\n",
    "start,A,c,A,b,A,end\n",
    "start,A,c,A,b,end\n",
    "start,A,c,A,end\n",
    "start,A,end\n",
    "start,b,A,c,A,end\n",
    "start,b,A,end\n",
    "start,b,end\n",
    "```\n",
    "(Each line in the above list corresponds to a single path; the caves visited by that path are listed in the order they are visited and separated by commas.)\n",
    "\n",
    "Note that in this cave system, cave d is never visited by any path: to do so, cave b would need to be visited twice (once on the way to cave d and a second time when returning from cave d), and since cave b is small, this is not allowed.\n",
    "\n",
    "Here is a slightly larger example:\n",
    "```\n",
    "dc-end\n",
    "HN-start\n",
    "start-kj\n",
    "dc-start\n",
    "dc-HN\n",
    "LN-dc\n",
    "HN-end\n",
    "kj-sa\n",
    "kj-HN\n",
    "kj-dc\n",
    "```\n",
    "The 19 paths through it are as follows:\n",
    "```\n",
    "start,HN,dc,HN,end\n",
    "start,HN,dc,HN,kj,HN,end\n",
    "start,HN,dc,end\n",
    "start,HN,dc,kj,HN,end\n",
    "start,HN,end\n",
    "start,HN,kj,HN,dc,HN,end\n",
    "start,HN,kj,HN,dc,end\n",
    "start,HN,kj,HN,end\n",
    "start,HN,kj,dc,HN,end\n",
    "start,HN,kj,dc,end\n",
    "start,dc,HN,end\n",
    "start,dc,HN,kj,HN,end\n",
    "start,dc,end\n",
    "start,dc,kj,HN,end\n",
    "start,kj,HN,dc,HN,end\n",
    "start,kj,HN,dc,end\n",
    "start,kj,HN,end\n",
    "start,kj,dc,HN,end\n",
    "start,kj,dc,end\n",
    "```\n",
    "Finally, this even larger example has 226 paths through it:\n",
    "```\n",
    "fs-end\n",
    "he-DX\n",
    "fs-he\n",
    "start-DX\n",
    "pj-DX\n",
    "end-zg\n",
    "zg-sl\n",
    "zg-pj\n",
    "pj-he\n",
    "RW-he\n",
    "fs-DX\n",
    "pj-RW\n",
    "zg-RW\n",
    "start-pj\n",
    "he-WI\n",
    "zg-he\n",
    "pj-fs\n",
    "start-RW\n",
    "```\n",
    "How many paths through this cave system are there that visit small caves at most once?"
   ]
  },
  {
   "cell_type": "markdown",
   "metadata": {},
   "source": [
    "**Step 1:** Making a graph out of our problem input"
   ]
  },
  {
   "cell_type": "code",
   "execution_count": 519,
   "metadata": {},
   "outputs": [
    {
     "data": {
      "text/plain": [
       "{'pq': {'GX', 'PI', 'ey', 'iw', 'start'},\n",
       " 'GX': {'ah', 'mj', 'pq', 'te'},\n",
       " 'ah': {'GX', 'ZM', 'ey', 'iw'},\n",
       " 'mj': {'GX', 'PI', 'YV', 'end', 'te'},\n",
       " 'PI': {'end', 'iw', 'mj', 'pq', 'start', 'te'},\n",
       " 'ey': {'ah', 'pq', 'start', 'te'},\n",
       " 'start': {'PI', 'ey', 'pq'},\n",
       " 'end': {'PI', 'ZM', 'mj'},\n",
       " 'YV': {'mj'},\n",
       " 'iw': {'PI', 'ZM', 'ah', 'pq', 'te'},\n",
       " 'te': {'GX', 'PI', 'ey', 'iw', 'mj', 'vc'},\n",
       " 'ZM': {'ah', 'end', 'iw'},\n",
       " 'vc': {'te'}}"
      ]
     },
     "execution_count": 519,
     "metadata": {},
     "output_type": "execute_result"
    }
   ],
   "source": [
    "graph = {}\n",
    "for pair in pairs:\n",
    "    if graph.get(pair[0]) == None: graph[pair[0]] = {pair[1]}\n",
    "    else: graph.get(pair[0]).add(pair[1])\n",
    "    if graph.get(pair[1]) == None: graph[pair[1]] = {pair[0]}\n",
    "    else: graph.get(pair[1]).add(pair[0])\n",
    "    \n",
    "graph"
   ]
  },
  {
   "cell_type": "markdown",
   "metadata": {},
   "source": [
    "**Step 2:** Recursive algorithm to find all the paths that meet the problem's condition"
   ]
  },
  {
   "cell_type": "code",
   "execution_count": 520,
   "metadata": {},
   "outputs": [],
   "source": [
    "def traverseP1(node, seen):\n",
    "    totalPaths = 0\n",
    "    \n",
    "    if node.islower() and node in seen: return 0\n",
    "    if node == 'end': return 1\n",
    "\n",
    "    newSeen = seen.copy()\n",
    "    newSeen.add(node)\n",
    "\n",
    "    for neighbor in graph.get(node): totalPaths += traverseP1(neighbor, newSeen)\n",
    "\n",
    "    return totalPaths"
   ]
  },
  {
   "cell_type": "markdown",
   "metadata": {},
   "source": [
    "**Step 3:** Run our function"
   ]
  },
  {
   "cell_type": "code",
   "execution_count": 521,
   "metadata": {},
   "outputs": [],
   "source": [
    "part1Paths = traverseP1('start', set())"
   ]
  },
  {
   "cell_type": "markdown",
   "metadata": {},
   "source": [
    "Final result"
   ]
  },
  {
   "cell_type": "code",
   "execution_count": 522,
   "metadata": {},
   "outputs": [
    {
     "name": "stdout",
     "output_type": "stream",
     "text": [
      "The number of paths from start to end where small caves don't repeat is: 5333\n"
     ]
    }
   ],
   "source": [
    "print(f\"The number of paths from start to end where small caves don't repeat is: {part1Paths}\")"
   ]
  },
  {
   "cell_type": "markdown",
   "metadata": {},
   "source": [
    "## Part Two\n",
    "After reviewing the available paths, you realize you might have time to visit a single small cave twice. Specifically, big caves can be visited any number of times, a single small cave can be visited at most twice, and the remaining small caves can be visited at most once. However, the caves named start and end can only be visited exactly once each: once you leave the start cave, you may not return to it, and once you reach the end cave, the path must end immediately.\n",
    "\n",
    "Now, the 36 possible paths through the first example above are:\n",
    "```\n",
    "start,A,b,A,b,A,c,A,end\n",
    "start,A,b,A,b,A,end\n",
    "start,A,b,A,b,end\n",
    "start,A,b,A,c,A,b,A,end\n",
    "start,A,b,A,c,A,b,end\n",
    "start,A,b,A,c,A,c,A,end\n",
    "start,A,b,A,c,A,end\n",
    "start,A,b,A,end\n",
    "start,A,b,d,b,A,c,A,end\n",
    "start,A,b,d,b,A,end\n",
    "start,A,b,d,b,end\n",
    "start,A,b,end\n",
    "start,A,c,A,b,A,b,A,end\n",
    "start,A,c,A,b,A,b,end\n",
    "start,A,c,A,b,A,c,A,end\n",
    "start,A,c,A,b,A,end\n",
    "start,A,c,A,b,d,b,A,end\n",
    "start,A,c,A,b,d,b,end\n",
    "start,A,c,A,b,end\n",
    "start,A,c,A,c,A,b,A,end\n",
    "start,A,c,A,c,A,b,end\n",
    "start,A,c,A,c,A,end\n",
    "start,A,c,A,end\n",
    "start,A,end\n",
    "start,b,A,b,A,c,A,end\n",
    "start,b,A,b,A,end\n",
    "start,b,A,b,end\n",
    "start,b,A,c,A,b,A,end\n",
    "start,b,A,c,A,b,end\n",
    "start,b,A,c,A,c,A,end\n",
    "start,b,A,c,A,end\n",
    "start,b,A,end\n",
    "start,b,d,b,A,c,A,end\n",
    "start,b,d,b,A,end\n",
    "start,b,d,b,end\n",
    "start,b,end\n",
    "```\n",
    "The slightly larger example above now has 103 paths through it, and the even larger example now has 3509 paths through it.\n",
    "\n",
    "Given these new rules, how many paths through this cave system are there?"
   ]
  },
  {
   "cell_type": "markdown",
   "metadata": {},
   "source": [
    "**Step 1:** Making a function that will go through the graoh and find the number of paths with the given conditions"
   ]
  },
  {
   "cell_type": "code",
   "execution_count": 523,
   "metadata": {},
   "outputs": [],
   "source": [
    "def traverseP2(node, seen, secondSmallAdded):\n",
    "    totalPaths = 0\n",
    "\n",
    "    if node.islower() and node in seen :\n",
    "        if secondSmallAdded: return 0\n",
    "        else: secondSmallAdded = True  \n",
    "    if node == 'end': return 1\n",
    "\n",
    "    newSeen = seen.copy()\n",
    "    newSeen.add(node)\n",
    "\n",
    "    for neighbor in graph.get(node):\n",
    "        if neighbor != 'start': totalPaths += traverseP2(neighbor, newSeen, secondSmallAdded)\n",
    "    \n",
    "    return totalPaths"
   ]
  },
  {
   "cell_type": "markdown",
   "metadata": {},
   "source": [
    "**Step 2:** Running our function"
   ]
  },
  {
   "cell_type": "code",
   "execution_count": 524,
   "metadata": {},
   "outputs": [],
   "source": [
    "part2Paths = traverseP2('start', set(), False)"
   ]
  },
  {
   "cell_type": "markdown",
   "metadata": {},
   "source": [
    "Final Result:"
   ]
  },
  {
   "cell_type": "code",
   "execution_count": 525,
   "metadata": {},
   "outputs": [
    {
     "name": "stdout",
     "output_type": "stream",
     "text": [
      "The total number of paths from start to end where at most 1 small cave repeats and no other small caves repeat is: 146553\n"
     ]
    }
   ],
   "source": [
    "print(f\"The total number of paths from start to end where at most 1 small cave repeats and no other small caves repeat is: {part2Paths}\")"
   ]
  }
 ],
 "metadata": {
  "interpreter": {
   "hash": "b0fa6594d8f4cbf19f97940f81e996739fb7646882a419484c72d19e05852a7e"
  },
  "kernelspec": {
   "display_name": "Python 3.9.9 64-bit",
   "language": "python",
   "name": "python3"
  },
  "language_info": {
   "codemirror_mode": {
    "name": "ipython",
    "version": 3
   },
   "file_extension": ".py",
   "mimetype": "text/x-python",
   "name": "python",
   "nbconvert_exporter": "python",
   "pygments_lexer": "ipython3",
   "version": "3.9.9"
  },
  "orig_nbformat": 4
 },
 "nbformat": 4,
 "nbformat_minor": 2
}
