{
 "cells": [
  {
   "cell_type": "markdown",
   "metadata": {},
   "source": [
    "# Day 14"
   ]
  },
  {
   "cell_type": "markdown",
   "metadata": {},
   "source": [
    "Reading and making our puzzle input usable for future use"
   ]
  },
  {
   "cell_type": "code",
   "execution_count": 894,
   "metadata": {},
   "outputs": [],
   "source": [
    "fileText = open('day14Input.txt', 'r').read().split('\\n\\n')\n",
    "initial, pairs = fileText[0], fileText[1].split('\\n')\n",
    "pairs = [pair.split(' -> ') for pair in pairs]"
   ]
  },
  {
   "cell_type": "markdown",
   "metadata": {},
   "source": [
    "## Part One\n",
    "\n",
    "The incredible pressures at this depth are starting to put a strain on your submarine. The submarine has polymerization equipment that would produce suitable materials to reinforce the submarine, and the nearby volcanically-active caves should even have the necessary input elements in sufficient quantities.\n",
    "\n",
    "The submarine manual contains instructions for finding the optimal polymer formula; specifically, it offers a polymer template and a list of pair insertion rules (your puzzle input). You just need to work out what polymer would result after repeating the pair insertion process a few times.\n",
    "\n",
    "For example:\n",
    "`NNCB`\n",
    "```\n",
    "CH -> B\n",
    "HH -> N\n",
    "CB -> H\n",
    "NH -> C\n",
    "HB -> C\n",
    "HC -> B\n",
    "HN -> C\n",
    "NN -> C\n",
    "BH -> H\n",
    "NC -> B\n",
    "NB -> B\n",
    "BN -> B\n",
    "BB -> N\n",
    "BC -> B\n",
    "CC -> N\n",
    "CN -> C\n",
    "```\n",
    "The first line is the polymer template - this is the starting point of the process.\n",
    "\n",
    "The following section defines the pair insertion rules. A rule like AB -> C means that when elements A and B are immediately adjacent, element C should be inserted between them. These insertions all happen simultaneously.\n",
    "\n",
    "So, starting with the polymer template NNCB, the first step simultaneously considers all three pairs:\n",
    "\n",
    "- The first pair (NN) matches the rule NN -> C, so element C is inserted between the first N and the second N.\n",
    "- The second pair (NC) matches the rule NC -> B, so element B is inserted between the N and the C.\n",
    "- The third pair (CB) matches the rule CB -> H, so element H is inserted between the C and the B.\n",
    "\n",
    "Note that these pairs overlap: the second element of one pair is the first element of the next pair. Also, because all pairs are considered simultaneously, inserted elements are not considered to be part of a pair until the next step.\n",
    "\n",
    "After the first step of this process, the polymer becomes NCNBCHB.\n",
    "\n",
    "Here are the results of a few steps using the above rules:\n",
    "```\n",
    "Template:     NNCB\n",
    "After step 1: NCNBCHB\n",
    "After step 2: NBCCNBBBCBHCB\n",
    "After step 3: NBBBCNCCNBBNBNBBCHBHHBCHB\n",
    "After step 4: NBBNBNBBCCNBCNCCNBBNBBNBBBNBBNBBCBHCBHHNHCBBCBHCB\n",
    "```\n",
    "**This polymer grows quickly**. After step 5, it has length 97; After step 10, it has length 3073. After step 10, B occurs 1749 times, C occurs 298 times, H occurs 161 times, and N occurs 865 times; taking the quantity of the most common element (B, 1749) and subtracting the quantity of the least common element (H, 161) produces 1749 - 161 = 1588.\n",
    "\n",
    "**Apply 10 steps of pair insertion to the polymer template and find the most and least common elements in the result. What do you get if you take the quantity of the most common element and subtract the quantity of the least common element?**\n"
   ]
  },
  {
   "cell_type": "markdown",
   "metadata": {},
   "source": [
    "**Step 1** Making a map that gets the insertions from the pair"
   ]
  },
  {
   "cell_type": "code",
   "execution_count": 895,
   "metadata": {},
   "outputs": [],
   "source": [
    "formulaMap = {}\n",
    "for pair in pairs:\n",
    "    formulaMap[pair[0]] = pair[1]"
   ]
  },
  {
   "cell_type": "markdown",
   "metadata": {},
   "source": [
    "**Step 2** Making a function that will transform the polymer given a certain number of steps"
   ]
  },
  {
   "cell_type": "code",
   "execution_count": 896,
   "metadata": {},
   "outputs": [],
   "source": [
    "def transform(times, polymer):\n",
    "    if times == 0: return polymer\n",
    "\n",
    "    toInsert = []\n",
    "    \n",
    "    for i in range(len(polymer)-1):\n",
    "        pair = polymer[i] + polymer[i+1]\n",
    "        toInsert.append(formulaMap.get(pair))\n",
    "\n",
    "    newFormula = [None] * len(toInsert + polymer)\n",
    "    #Splicing the insertions inbetween the existing polymer\n",
    "    newFormula[::2] = polymer\n",
    "    newFormula[1::2] = toInsert\n",
    "    \n",
    "    return transform(times-1, newFormula)"
   ]
  },
  {
   "cell_type": "markdown",
   "metadata": {},
   "source": [
    "**Step 3** Finding out what the polymer is after 10 steps"
   ]
  },
  {
   "cell_type": "code",
   "execution_count": 897,
   "metadata": {},
   "outputs": [],
   "source": [
    "polymerAfter10 = transform(10, list(initial))"
   ]
  },
  {
   "cell_type": "markdown",
   "metadata": {},
   "source": [
    "**Step 4** Making a function that gets the counts of each polymer"
   ]
  },
  {
   "cell_type": "code",
   "execution_count": 898,
   "metadata": {},
   "outputs": [],
   "source": [
    "def getCounts(polymer):\n",
    "    counts = {}\n",
    "    for element in polymer:\n",
    "        counts[element] = counts.get(element, 0) + 1\n",
    "        \n",
    "    return counts"
   ]
  },
  {
   "cell_type": "code",
   "execution_count": 899,
   "metadata": {},
   "outputs": [
    {
     "name": "stdout",
     "output_type": "stream",
     "text": [
      "{'C': 2366, 'N': 3108, 'V': 1492, 'K': 2472, 'S': 1749, 'H': 2184, 'P': 2528, 'B': 1530, 'F': 1522, 'O': 506}\n"
     ]
    }
   ],
   "source": [
    "counts = getCounts(polymerAfter10)\n",
    "print(counts)"
   ]
  },
  {
   "cell_type": "markdown",
   "metadata": {},
   "source": [
    "**Step 5** Turning the numbers of each element into a list so we can get our final answer"
   ]
  },
  {
   "cell_type": "code",
   "execution_count": 900,
   "metadata": {},
   "outputs": [],
   "source": [
    "countList = []\n",
    "for element in counts: countList.append(counts.get(element))"
   ]
  },
  {
   "cell_type": "markdown",
   "metadata": {},
   "source": [
    "Final Result:"
   ]
  },
  {
   "cell_type": "code",
   "execution_count": 901,
   "metadata": {},
   "outputs": [
    {
     "name": "stdout",
     "output_type": "stream",
     "text": [
      "The difference between the most and least common element after 10 steps is: 2602\n"
     ]
    }
   ],
   "source": [
    "part1Ans = max(countList) - min(countList)\n",
    "\n",
    "print(f\"The difference between the most and least common element after 10 steps is: {part1Ans}\")"
   ]
  },
  {
   "cell_type": "markdown",
   "metadata": {},
   "source": [
    "## Part Two\n",
    "The resulting polymer isn't nearly strong enough to reinforce the submarine. You'll need to run more steps of the pair insertion process; a total of 40 steps should do it.\n",
    "\n",
    "In the above example, the most common element is B (occurring 2192039569602 times) and the least common element is H (occurring 3849876073 times); subtracting these produces 2188189693529.\n",
    "\n",
    "Apply 40 steps of pair insertion to the polymer template and find the most and least common elements in the result. What do you get if you take the quantity of the most common element and subtract the quantity of the least common element?"
   ]
  },
  {
   "cell_type": "markdown",
   "metadata": {},
   "source": [
    "**Step 1:** Making a function that will increment for to make code a little more readable"
   ]
  },
  {
   "cell_type": "code",
   "execution_count": 902,
   "metadata": {},
   "outputs": [],
   "source": [
    "def increment(map, object, value):\n",
    "    map[object] = map.get(object, 0) + value"
   ]
  },
  {
   "cell_type": "markdown",
   "metadata": {},
   "source": [
    "**Step 2** Keeping track of the number of pairs after 40 steps"
   ]
  },
  {
   "cell_type": "code",
   "execution_count": 903,
   "metadata": {},
   "outputs": [],
   "source": [
    "currentPairs = {}\n",
    "for i in range(len(initial)-1):\n",
    "    pair = initial[i] + initial[i+1]\n",
    "    increment(currentPairs, pair, 1)\n",
    "\n",
    "for step in range(40):\n",
    "    newPairs = {}\n",
    "\n",
    "    for pair in currentPairs:\n",
    "        insertion = formulaMap.get(pair)\n",
    "\n",
    "        newPair1 = pair[0] + insertion\n",
    "        newPair2 = insertion + pair[1]\n",
    "\n",
    "        increment(newPairs, newPair1, currentPairs.get(pair))\n",
    "        increment(newPairs, newPair2, currentPairs.get(pair))\n",
    "\n",
    "    currentPairs = newPairs "
   ]
  },
  {
   "cell_type": "markdown",
   "metadata": {},
   "source": [
    "**Step 3** Turn the counts of the pairs into counts of the elements"
   ]
  },
  {
   "cell_type": "code",
   "execution_count": 904,
   "metadata": {},
   "outputs": [],
   "source": [
    "elementCounts = {}\n",
    "#We'll only increment the fist of each pair, since each element except the last one will appear twice\n",
    "for pair in currentPairs: increment(elementCounts, pair[0], currentPairs.get(pair))\n",
    "#Incrementing the last element, since we missed it in the for-loop\n",
    "increment(elementCounts, initial[-1], 1)"
   ]
  },
  {
   "cell_type": "code",
   "execution_count": 905,
   "metadata": {},
   "outputs": [
    {
     "name": "stdout",
     "output_type": "stream",
     "text": [
      "{'C': 2481750112848, 'N': 3411547316650, 'V': 1723833896052, 'K': 2711448364276, 'S': 1937055921414, 'H': 2318406267841, 'P': 2671034416074, 'B': 1625349939396, 'F': 1541633298717, 'O': 468661394477}\n"
     ]
    }
   ],
   "source": [
    "print(elementCounts)"
   ]
  },
  {
   "cell_type": "markdown",
   "metadata": {},
   "source": [
    "**Step 4** Making a list of the all the counts of all the elements to get our final answer"
   ]
  },
  {
   "cell_type": "code",
   "execution_count": 906,
   "metadata": {},
   "outputs": [],
   "source": [
    "countList = []\n",
    "for element in elementCounts: countList.append(elementCounts.get(element))"
   ]
  },
  {
   "cell_type": "markdown",
   "metadata": {},
   "source": [
    "Final Result:"
   ]
  },
  {
   "cell_type": "code",
   "execution_count": 907,
   "metadata": {},
   "outputs": [
    {
     "name": "stdout",
     "output_type": "stream",
     "text": [
      "The difference between the most and least common element after 40 steps is: 2942885922173\n"
     ]
    }
   ],
   "source": [
    "Part2Ans = max(countList) - min(countList)\n",
    "\n",
    "print(f\"The difference between the most and least common element after 40 steps is: {Part2Ans}\")"
   ]
  }
 ],
 "metadata": {
  "interpreter": {
   "hash": "b0fa6594d8f4cbf19f97940f81e996739fb7646882a419484c72d19e05852a7e"
  },
  "kernelspec": {
   "display_name": "Python 3.9.9 64-bit",
   "language": "python",
   "name": "python3"
  },
  "language_info": {
   "codemirror_mode": {
    "name": "ipython",
    "version": 3
   },
   "file_extension": ".py",
   "mimetype": "text/x-python",
   "name": "python",
   "nbconvert_exporter": "python",
   "pygments_lexer": "ipython3",
   "version": "3.9.9"
  },
  "orig_nbformat": 4
 },
 "nbformat": 4,
 "nbformat_minor": 2
}
