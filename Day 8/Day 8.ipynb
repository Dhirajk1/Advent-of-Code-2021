{
 "cells": [
  {
   "cell_type": "markdown",
   "metadata": {},
   "source": [
    "# Day 8"
   ]
  },
  {
   "cell_type": "markdown",
   "metadata": {},
   "source": [
    "Getting our input set up in Python for us to use in our solution"
   ]
  },
  {
   "cell_type": "code",
   "execution_count": 2,
   "metadata": {},
   "outputs": [],
   "source": [
    "fileText = open('day8Input.txt', 'r').read()\n",
    "lines = fileText.split('\\n')\n",
    "for i in range(len(lines)): \n",
    "    lines[i] = lines[i].split(' | ')\n",
    "    for j in range(len(lines[i])): lines[i][j] = lines[i][j].split(' ')"
   ]
  },
  {
   "cell_type": "markdown",
   "metadata": {},
   "source": [
    "## Part One\n",
    "You barely reach the safety of the cave when the whale smashes into the cave mouth, collapsing it. Sensors indicate another exit to this cave at a much greater depth, so you have no choice but to press on.\n",
    "\n",
    "As your submarine slowly makes its way through the cave system, you notice that the four-digit seven-segment displays in your submarine are malfunctioning; they must have been damaged during the escape. You'll be in a lot of trouble without them, so you'd better figure out what's wrong.\n",
    "\n",
    "Each digit of a seven-segment display is rendered by turning on or off any of seven segments named a through g:\n",
    "```\n",
    "  0:      1:      2:      3:      4:\n",
    " aaaa    ....    aaaa    aaaa    ....\n",
    "b    c  .    c  .    c  .    c  b    c\n",
    "b    c  .    c  .    c  .    c  b    c\n",
    " ....    ....    dddd    dddd    dddd\n",
    "e    f  .    f  e    .  .    f  .    f\n",
    "e    f  .    f  e    .  .    f  .    f\n",
    " gggg    ....    gggg    gggg    ....\n",
    "\n",
    "  5:      6:      7:      8:      9:\n",
    " aaaa    aaaa    aaaa    aaaa    aaaa\n",
    "b    .  b    .  .    c  b    c  b    c\n",
    "b    .  b    .  .    c  b    c  b    c\n",
    " dddd    dddd    ....    dddd    dddd\n",
    ".    f  e    f  .    f  e    f  .    f\n",
    ".    f  e    f  .    f  e    f  .    f\n",
    " gggg    gggg    ....    gggg    gggg\n",
    " ```\n",
    "\n",
    "So, to render a 1, only segments c and f would be turned on; the rest would be off. To render a 7, only segments a, c, and f would be turned on.\n",
    "\n",
    "The problem is that the signals which control the segments have been mixed up on each display. The submarine is still trying to display numbers by producing output on signal wires a through g, but those wires are connected to segments randomly. Worse, the wire/segment connections are mixed up separately for each four-digit display! (All of the digits within a display use the same connections, though.)\n",
    "\n",
    "So, you might know that only signal wires b and g are turned on, but that doesn't mean segments b and g are turned on: the only digit that uses two segments is 1, so it must mean segments c and f are meant to be on. With just that information, you still can't tell which wire (b/g) goes to which segment (c/f). For that, you'll need to collect more information.\n",
    "\n",
    "For each display, you watch the changing signals for a while, make a note of all ten unique signal patterns you see, and then write down a single four digit output value (your puzzle input). Using the signal patterns, you should be able to work out which pattern corresponds to which digit.\n",
    "\n",
    "For example, here is what you might see in a single entry in your notes:\n",
    "```\n",
    "acedgfb cdfbe gcdfa fbcad dab cefabd cdfgeb eafb cagedb ab |\n",
    "cdfeb fcadb cdfeb cdbaf\n",
    "```\n",
    "(The entry is wrapped here to two lines so it fits; in your notes, it will all be on a single line.)\n",
    "\n",
    "Each entry consists of ten unique signal patterns, a | delimiter, and finally the four digit output value. Within an entry, the same wire/segment connections are used (but you don't know what the connections actually are). The unique signal patterns correspond to the ten different ways the submarine tries to render a digit using the current wire/segment connections. Because 7 is the only digit that uses three segments, dab in the above example means that to render a 7, signal lines d, a, and b are on. Because 4 is the only digit that uses four segments, eafb means that to render a 4, signal lines e, a, f, and b are on.\n",
    "\n",
    "Using this information, you should be able to work out which combination of signal wires corresponds to each of the ten digits. Then, you can decode the four digit output value. Unfortunately, in the above example, all of the digits in the output value (cdfeb fcadb cdfeb cdbaf) use five segments and are more difficult to deduce.\n",
    "\n",
    "For now, focus on the easy digits. Consider this larger example:\n",
    "```\n",
    "be cfbegad cbdgef fgaecd cgeb fdcge agebfd fecdb fabcd edb |\n",
    "fdgacbe cefdb cefbgd gcbe\n",
    "edbfga begcd cbg gc gcadebf fbgde acbgfd abcde gfcbed gfec |\n",
    "fcgedb cgb dgebacf gc\n",
    "fgaebd cg bdaec gdafb agbcfd gdcbef bgcad gfac gcb cdgabef |\n",
    "cg cg fdcagb cbg\n",
    "fbegcd cbd adcefb dageb afcb bc aefdc ecdab fgdeca fcdbega |\n",
    "efabcd cedba gadfec cb\n",
    "aecbfdg fbg gf bafeg dbefa fcge gcbea fcaegb dgceab fcbdga |\n",
    "gecf egdcabf bgf bfgea\n",
    "fgeab ca afcebg bdacfeg cfaedg gcfdb baec bfadeg bafgc acf |\n",
    "gebdcfa ecba ca fadegcb\n",
    "dbcfg fgd bdegcaf fgec aegbdf ecdfab fbedc dacgb gdcebf gf |\n",
    "cefg dcbef fcge gbcadfe\n",
    "bdfegc cbegaf gecbf dfcage bdacg ed bedf ced adcbefg gebcd |\n",
    "ed bcgafe cdgba cbgef\n",
    "egadfb cdbfeg cegd fecab cgb gbdefca cg fgcdab egfdb bfceg |\n",
    "gbdfcae bgc cg cgb\n",
    "gcafb gcf dcaebfg ecagb gf abcdeg gaef cafbge fdbac fegbdc |\n",
    "fgae cfgab fg bagce\n",
    "```\n",
    "Because the digits 1, 4, 7, and 8 each use a unique number of segments, you should be able to tell which combinations of signals correspond to those digits. Counting only digits in the output values (the part after | on each line), in the above example, there are 26 instances of digits that use a unique number of segments (highlighted above).\n",
    "\n",
    "**In the output values, how many times do digits 1, 4, 7, or 8 appear?**"
   ]
  },
  {
   "cell_type": "markdown",
   "metadata": {},
   "source": [
    "### Solution:\n",
    "All we have to go if see if the segment length matches up with one of the unique digits!"
   ]
  },
  {
   "cell_type": "code",
   "execution_count": 4,
   "metadata": {},
   "outputs": [],
   "source": [
    "#the numbers of characters in 1,4,7,8\n",
    "unique, count = [2, 3, 4, 7], 0\n",
    "for line in lines:\n",
    "    for segment in line[1]: \n",
    "        if len(segment) in unique: count +=1"
   ]
  },
  {
   "cell_type": "code",
   "execution_count": 5,
   "metadata": {},
   "outputs": [
    {
     "name": "stdout",
     "output_type": "stream",
     "text": [
      "The digits 1, 4, 7, and 8 appear 318 times\n"
     ]
    }
   ],
   "source": [
    "print(f'The digits 1, 4, 7, and 8 appear {count} times')"
   ]
  },
  {
   "cell_type": "markdown",
   "metadata": {},
   "source": [
    "## Part Two\n",
    "\n",
    "Through a little deduction, you should now be able to determine the remaining digits. Consider again the first example above:\n",
    "\n",
    "acedgfb cdfbe gcdfa fbcad dab cefabd cdfgeb eafb cagedb ab |\n",
    "cdfeb fcadb cdfeb cdbaf\n",
    "After some careful analysis, the mapping between signal wires and segments only make sense in the following configuration:\n",
    "```\n",
    " dddd\n",
    "e    a\n",
    "e    a\n",
    " ffff\n",
    "g    b\n",
    "g    b\n",
    " cccc\n",
    " ```\n",
    "So, the unique signal patterns would correspond to the following digits:\n",
    "```\n",
    "acedgfb: 8\n",
    "cdfbe: 5\n",
    "gcdfa: 2\n",
    "fbcad: 3\n",
    "dab: 7\n",
    "cefabd: 9\n",
    "cdfgeb: 6\n",
    "eafb: 4\n",
    "cagedb: 0\n",
    "ab: 1\n",
    "```\n",
    "Then, the four digits of the output value can be decoded:\n",
    "```\n",
    "cdfeb: 5\n",
    "fcadb: 3\n",
    "cdfeb: 5\n",
    "cdbaf: 3\n",
    "```\n",
    "\n",
    "Therefore, the output value for this entry is `5353`.\n",
    "\n",
    "Following this same process for each entry in the second, larger example above, the output value of each entry can be determined:\n",
    "```\n",
    "fdgacbe cefdb cefbgd gcbe: 8394\n",
    "fcgedb cgb dgebacf gc: 9781\n",
    "cg cg fdcagb cbg: 1197\n",
    "efabcd cedba gadfec cb: 9361\n",
    "gecf egdcabf bgf bfgea: 4873\n",
    "gebdcfa ecba ca fadegcb: 8418\n",
    "cefg dcbef fcge gbcadfe: 4548\n",
    "ed bcgafe cdgba cbgef: 1625\n",
    "gbdfcae bgc cg cgb: 8717\n",
    "fgae cfgab fg bagce: 4315\n",
    "```\n",
    "\n",
    "Adding all of the output values in this larger example produces `61229`.\n",
    "\n",
    "**For each entry, determine all of the wire/segment connections and decode the four-digit output values. What do you get if you add up all of the output values?**"
   ]
  },
  {
   "cell_type": "markdown",
   "metadata": {},
   "source": [
    "**Step 1:** Making a dictionary that will get us from seven-segment to decimal (doesn't work for out input since the characters are mismatched)"
   ]
  },
  {
   "cell_type": "code",
   "execution_count": 6,
   "metadata": {},
   "outputs": [],
   "source": [
    "conversion = {'abcef': 0, 'cf': 1, 'acdeg': 2, 'acdfg': 3, 'bcdf': 4, 'abdfg': 5, 'abdefg': 6, 'acf': 7, 'abcdefg': 8, 'abcdfg': 9 }"
   ]
  },
  {
   "cell_type": "markdown",
   "metadata": {},
   "source": [
    "**Step 2** Deocoding the segments using patterns and properties of seven segment"
   ]
  },
  {
   "cell_type": "code",
   "execution_count": 7,
   "metadata": {},
   "outputs": [],
   "source": [
    "def decodeLine(line):\n",
    "    \n",
    "    known = {2:1, 3: 7, 4: 4, 7: 8} #values from digits with unique length (look at part one)\n",
    "    key = dict.fromkeys([1,4,7,8]) #map that takes those values that finds its segment value for the given line\n",
    "    charConversions = dict.fromkeys(['a', 'b', 'c', 'd', 'e', 'f', 'g']) #map for converting the correct char to the messed up one\n",
    "    charCounts = dict.fromkeys(['a', 'b', 'c', 'd', 'e', 'f', 'g'], 0) #count for each char since b,e,g appear a unique amount of times in 0-9\n",
    "\n",
    "    for segment in line:\n",
    "        for char in segment: charCounts[char] += 1 #adding to count\n",
    "        if len(segment) in known: key[known.get(len(segment))] = set(segment) #checking if the length lines up with on of our unique values\n",
    "\n",
    "    for char in charCounts: #adding the characters that appear a unique amount of times\n",
    "        if charCounts.get(char) == 4: charConversions['e'] = char\n",
    "        elif charCounts.get(char) == 9: charConversions['f'] = char\n",
    "        elif charCounts.get(char) == 6: charConversions['b'] = char\n",
    "\n",
    "    #finding other chars through sets (using visuals)\n",
    "    charConversions['a'] = key.get(7).difference(key.get(1)).pop()\n",
    "    charConversions['c'] = key.get(1).difference(set(charConversions.get('f'))).pop()\n",
    "    charConversions['d'] = key.get(4).difference(set(charConversions.get('b')).union(key.get(1))).pop()\n",
    "\n",
    "    #finding g by finding the character left over\n",
    "    charConversions['g'] = set(['a', 'b', 'c', 'd', 'e', 'f', 'g']).difference(\n",
    "        set([charConversions.get(key) for key in charConversions])).pop()\n",
    "\n",
    "    #populating the line conversion to get from segments to numbers\n",
    "    lineConversion = {}\n",
    "    for key in conversion:\n",
    "        newKey = ''.join(map(str, [charConversions.get(char) for char in key]))\n",
    "        lineConversion[newKey] = conversion.get(key)\n",
    "    return lineConversion"
   ]
  },
  {
   "cell_type": "markdown",
   "metadata": {},
   "source": [
    "**Step 3:** Finding the decimal value for each line and summing them together"
   ]
  },
  {
   "cell_type": "code",
   "execution_count": 8,
   "metadata": {},
   "outputs": [],
   "source": [
    "total = 0\n",
    "for line in lines: \n",
    "    lineConversion = decodeLine(line[0]) #conversion for the line\n",
    "    value, multiplyFactor = 0, 1000 #factor to scale decimal correctly\n",
    "    for segment in line[1]:\n",
    "        for key in lineConversion:\n",
    "            if set(key) == set(segment): #finding the right key, since char sequence is not nessecarily in order\n",
    "                value += lineConversion.get(key) * multiplyFactor\n",
    "                break\n",
    "        multiplyFactor /= 10\n",
    "    total += int(value)  "
   ]
  },
  {
   "cell_type": "markdown",
   "metadata": {},
   "source": [
    "Final Result:"
   ]
  },
  {
   "cell_type": "code",
   "execution_count": 9,
   "metadata": {},
   "outputs": [
    {
     "name": "stdout",
     "output_type": "stream",
     "text": [
      "The sum of all the output values is: 996280\n"
     ]
    }
   ],
   "source": [
    "print(f'The sum of all the output values is: {total}')"
   ]
  }
 ],
 "metadata": {
  "interpreter": {
   "hash": "b0fa6594d8f4cbf19f97940f81e996739fb7646882a419484c72d19e05852a7e"
  },
  "kernelspec": {
   "display_name": "Python 3.9.9 64-bit",
   "language": "python",
   "name": "python3"
  },
  "language_info": {
   "codemirror_mode": {
    "name": "ipython",
    "version": 3
   },
   "file_extension": ".py",
   "mimetype": "text/x-python",
   "name": "python",
   "nbconvert_exporter": "python",
   "pygments_lexer": "ipython3",
   "version": "3.9.7"
  },
  "orig_nbformat": 4
 },
 "nbformat": 4,
 "nbformat_minor": 2
}
