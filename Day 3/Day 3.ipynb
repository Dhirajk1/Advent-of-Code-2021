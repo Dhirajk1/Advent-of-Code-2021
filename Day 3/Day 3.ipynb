{
 "cells": [
  {
   "cell_type": "markdown",
   "metadata": {},
   "source": [
    "# Day 3: Binary Diagnostic"
   ]
  },
  {
   "cell_type": "markdown",
   "metadata": {},
   "source": [
    "## First Step:\n",
    "\n",
    "I'm going to start out by loading in our text file of data and making it usable in our code:"
   ]
  },
  {
   "cell_type": "code",
   "execution_count": 30,
   "metadata": {},
   "outputs": [],
   "source": [
    "file = open('dayThreeData.txt')\n",
    "data = file.read().split('\\n')"
   ]
  },
  {
   "cell_type": "markdown",
   "metadata": {},
   "source": [
    "## Part One\n",
    "\n",
    "The submarine has been making some odd creaking noises, so you ask it to produce a diagnostic report just in case.\n",
    "\n",
    "The diagnostic report (your puzzle input) consists of a list of binary numbers which, when decoded properly, can tell you many useful things about the conditions of the submarine. The first parameter to check is the power consumption.\n",
    "\n",
    "You need to use the binary numbers in the diagnostic report to generate two new binary numbers (called the gamma rate and the epsilon rate). The power consumption can then be found by multiplying the gamma rate by the epsilon rate.\n",
    "\n",
    "Each bit in the gamma rate can be determined by finding the most common bit in the corresponding position of all numbers in the diagnostic report. For example, given the following diagnostic report:\n",
    "```\n",
    "| :---- |\n",
    "| 00100 |\n",
    "| 11110 |\n",
    "| 10110 |\n",
    "| 10111 |\n",
    "| 10101 |\n",
    "| 01111 |\n",
    "| 00111 |\n",
    "| 11100 |\n",
    "| 10000 |\n",
    "| 11001 |\n",
    "| 00010 |\n",
    "| 01010 |\n",
    "```\n",
    "Considering only the first bit of each number, there are five 0 bits and seven 1 bits. Since the most common bit is 1, the first bit of the gamma rate is 1.\n",
    "\n",
    "The most common second bit of the numbers in the diagnostic report is 0, so the second bit of the gamma rate is 0.\n",
    "\n",
    "The most common value of the third, fourth, and fifth bits are 1, 1, and 0, respectively, and so the final three bits of the gamma rate are 110.\n",
    "\n",
    "So, the gamma rate is the binary number 10110, or 22 in decimal.\n",
    "\n",
    "The epsilon rate is calculated in a similar way; rather than use the most common bit, the least common bit from each position is used. So, the epsilon rate is 01001, or 9 in decimal. Multiplying the gamma rate (22) by the epsilon rate (9) produces the power consumption, 198.\n",
    "\n",
    "**Use the binary numbers in your diagnostic report to calculate the gamma rate and epsilon rate, then multiply them together. What is the power consumption of the submarine? (Be sure to represent your answer in decimal, not binary.)**"
   ]
  },
  {
   "cell_type": "markdown",
   "metadata": {},
   "source": [
    "❗️*I know a byte is actaully **8** bits, but i'm calling the 12bit number a byte just for simplicity*❗️"
   ]
  },
  {
   "cell_type": "code",
   "execution_count": 31,
   "metadata": {},
   "outputs": [],
   "source": [
    "#Making a 2d array with each list being a byte that itself is a list of bits\n",
    "bytes = []\n",
    "for byte in data:\n",
    "    bytes.append([int(i) for i in list(byte)])"
   ]
  },
  {
   "cell_type": "markdown",
   "metadata": {},
   "source": [
    "Since all the numbers in a column are going to be either a 0 or a 1, we can know whichever is more common *by summing the column and seing its less that or equal to the number of columns / 2*"
   ]
  },
  {
   "cell_type": "code",
   "execution_count": 32,
   "metadata": {},
   "outputs": [],
   "source": [
    "gamma = []\n",
    "epsilon = []\n",
    "for bitIndex in range(len(bytes[0])):\n",
    "    #finding if 0 or 1 is more common for each column\n",
    "    columnSum = 0\n",
    "    for byte in bytes:\n",
    "        columnSum += byte[bitIndex]\n",
    "    gamma.append(int(2 * columnSum / len(bytes))) \n",
    "epsilon = [-1 * (g - 1) for g in gamma] #epsilon should just be the \"opposite\" of gamma"
   ]
  },
  {
   "cell_type": "markdown",
   "metadata": {},
   "source": [
    "I'm also going to make a function to convert the binary lists we have into decimal"
   ]
  },
  {
   "cell_type": "code",
   "execution_count": 33,
   "metadata": {},
   "outputs": [],
   "source": [
    "\n",
    "def binaryListToDecimal(list):\n",
    "    decimalValue = 0\n",
    "    for index in range(len(list)):\n",
    "        decimalValue += list[index] * (2**index)\n",
    "    return decimalValue"
   ]
  },
  {
   "cell_type": "code",
   "execution_count": 34,
   "metadata": {},
   "outputs": [
    {
     "name": "stdout",
     "output_type": "stream",
     "text": [
      "The power consumption of the submarine is: 3148794\n"
     ]
    }
   ],
   "source": [
    "gamma = binaryListToDecimal(gamma)\n",
    "epsilon = binaryListToDecimal(epsilon)\n",
    "powerConsumption = gamma * epsilon\n",
    "print(f'The power consumption of the submarine is: {powerConsumption}')"
   ]
  }
 ],
 "metadata": {
  "interpreter": {
   "hash": "b0fa6594d8f4cbf19f97940f81e996739fb7646882a419484c72d19e05852a7e"
  },
  "kernelspec": {
   "display_name": "Python 3.9.9 64-bit",
   "language": "python",
   "name": "python3"
  },
  "language_info": {
   "codemirror_mode": {
    "name": "ipython",
    "version": 3
   },
   "file_extension": ".py",
   "mimetype": "text/x-python",
   "name": "python",
   "nbconvert_exporter": "python",
   "pygments_lexer": "ipython3",
   "version": "3.9.9"
  },
  "orig_nbformat": 4
 },
 "nbformat": 4,
 "nbformat_minor": 2
}
